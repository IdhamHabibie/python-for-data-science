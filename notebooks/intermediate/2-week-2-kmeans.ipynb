{
 "cells": [
  {
   "cell_type": "markdown",
   "metadata": {},
   "source": [
    "# Clustering Algorithm: K-Means\n",
    "\n",
    "**K-Means** is one of simple clustering algorithm which belongs to *unsupervised learning*. As a reminder, the unsupervised learning is all about understanding how to group data either:\n",
    "\n",
    "1. When we don't have labels to predict. An example of it would be determining customer segments. We may don't have a label but intuition about how many segments that reasonably exist in our customer.\n",
    "2. When we are not trying to predict a label, but rather group the data together for some reason. Take an example when we have tons of data and we want to condense it down to only use number of features.\n",
    "\n",
    "Among other clustering algorithms, the simplest may be this **K-Means** algorithm. Some use cases where we want to try K-Means is to group books for recommendation or deduplication of items (articles/movies to be recommended).\n",
    "\n",
    "![](../../assets/img/kmeans.png)"
   ]
  },
  {
   "cell_type": "markdown",
   "metadata": {},
   "source": [
    "## K-Means in Scikit-learn\n",
    "\n",
    "In this notebook, we will use `scikit-learn` to implement K-Means."
   ]
  },
  {
   "cell_type": "code",
   "execution_count": null,
   "metadata": {},
   "outputs": [],
   "source": [
    "# import things\n",
    "\n",
    "import ... # import matplotlib here\n",
    "import ... # import numpy here\n",
    "import ... # import pandas here\n",
    "from ... import ... # import kmeans from scikit-learn"
   ]
  },
  {
   "cell_type": "code",
   "execution_count": null,
   "metadata": {},
   "outputs": [],
   "source": [
    "# Load dataset\n",
    "tracks = # load the tracks dataset\n",
    "print(\"dataset shape:\") # print the shape of the data inside print function\n",
    "display() # show first 10 rows of the data\n",
    "display() # show some information of the data\n",
    "display() # show some statistics summaries of the data"
   ]
  },
  {
   "cell_type": "code",
   "execution_count": null,
   "metadata": {},
   "outputs": [],
   "source": []
  }
 ],
 "metadata": {
  "kernelspec": {
   "display_name": "Python 3",
   "language": "python",
   "name": "python3"
  },
  "language_info": {
   "codemirror_mode": {
    "name": "ipython",
    "version": 3
   },
   "file_extension": ".py",
   "mimetype": "text/x-python",
   "name": "python",
   "nbconvert_exporter": "python",
   "pygments_lexer": "ipython3",
   "version": "3.7.4"
  }
 },
 "nbformat": 4,
 "nbformat_minor": 4
}
