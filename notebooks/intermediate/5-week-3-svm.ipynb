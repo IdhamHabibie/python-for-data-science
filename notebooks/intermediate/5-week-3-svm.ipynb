{
 "cells": [
  {
   "cell_type": "markdown",
   "metadata": {},
   "source": [
    "# Support Vector Machine\n",
    "\n",
    "Let's draw two plot of the same data and try answer this question.\n",
    "\n",
    "- Which one is the line that separates the points better?\n",
    "\n",
    "As a preview, this is how Support Vector Machine (SVM) works. It gives a line that separates the points with the greatest distance.\n",
    "\n",
    "SVM extend the criteria of classificaton a bit further, from giving a line that separates the points, to create one which is far away from the points as possible. We do this by creating two more lines which is equidistant parallel lines to the main line, and we try to **maximise** the distance between these two or the **margin** between them.\n",
    "\n",
    "![](../../assets/img/svm-boundary.png)\n",
    "\n",
    "Now, the error function now become a bit more complex, that is\n",
    "$$\n",
    "error = \\text{classification error} + \\text{margin error}\n",
    "$$"
   ]
  },
  {
   "cell_type": "markdown",
   "metadata": {},
   "source": [
    "## SVM in Scikit-Learn"
   ]
  },
  {
   "cell_type": "code",
   "execution_count": null,
   "metadata": {},
   "outputs": [],
   "source": [
    "import matplotlib.pyplot as plt\n",
    "import numpy as np\n",
    "import pandas as pd\n",
    "from sklearn.metrics import accuracy_score\n",
    "from sklearn.model_selection import train_test_split\n",
    "from sklearn.svm import SVC, LinearSVC"
   ]
  },
  {
   "cell_type": "code",
   "execution_count": null,
   "metadata": {},
   "outputs": [],
   "source": [
    "data = pd.read_csv(\"../../data/data.csv\", names=[\"x1\", \"x2\", \"label\"])"
   ]
  },
  {
   "cell_type": "code",
   "execution_count": null,
   "metadata": {},
   "outputs": [],
   "source": [
    "X = data[[\"x1\", \"x2\"]].values\n",
    "y = data[[\"label\"]].values\n",
    "\n",
    "X_train, X_test, y_train, y_test = train_test_split(X, y, test_size=.25, random_state=111)"
   ]
  },
  {
   "cell_type": "code",
   "execution_count": null,
   "metadata": {},
   "outputs": [],
   "source": [
    "linear_svc = SVC(kernel='linear')\n",
    "poly_svc = SVC(kernel='poly')\n",
    "rbf_svc = SVC(kernel='rbf')"
   ]
  },
  {
   "cell_type": "code",
   "execution_count": null,
   "metadata": {},
   "outputs": [],
   "source": [
    "for model in [linear_svc, poly_svc, rbf_svc]:\n",
    "    model.fit(X_train, y_train)\n",
    "#     print(f\"model {model.__na}\")\n",
    "    print(f\"\\ttraining accuracy: {accuracy_score(y_train, model.predict(X_train))}\")\n",
    "    print(f\"\\ttest accuracy: {accuracy_score(y_test, model.predict(X_test))}\\n\")"
   ]
  },
  {
   "cell_type": "code",
   "execution_count": null,
   "metadata": {},
   "outputs": [],
   "source": [
    "model = SVC(kernel='poly', C=10000., degree=4, random_state=1111)\n",
    "model.fit(X_train, y_train)\n",
    "print(\"training accuracy:\", accuracy_score(y_train, model.predict(X_train)))\n",
    "print(\"test accuracy:\", accuracy_score(y_test, model.predict(X_test)))"
   ]
  },
  {
   "cell_type": "code",
   "execution_count": null,
   "metadata": {},
   "outputs": [],
   "source": [
    "model = LinearSVC(random_state=1111)\n",
    "model.fit(X_train, y_train)\n",
    "print(\"training accuracy:\", accuracy_score(y_train, model.predict(X_train)))\n",
    "print(\"test accuracy:\", accuracy_score(y_test, model.predict(X_test)))"
   ]
  }
 ],
 "metadata": {
  "kernelspec": {
   "display_name": "Python 3",
   "language": "python",
   "name": "python3"
  },
  "language_info": {
   "codemirror_mode": {
    "name": "ipython",
    "version": 3
   },
   "file_extension": ".py",
   "mimetype": "text/x-python",
   "name": "python",
   "nbconvert_exporter": "python",
   "pygments_lexer": "ipython3",
   "version": "3.7.4"
  }
 },
 "nbformat": 4,
 "nbformat_minor": 4
}
