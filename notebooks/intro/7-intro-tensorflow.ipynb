{
 "cells": [
  {
   "cell_type": "code",
   "execution_count": 1,
   "metadata": {},
   "outputs": [
    {
     "name": "stdout",
     "output_type": "stream",
     "text": [
      "WARNING:tensorflow:From /Users/syahrulhamdani/.pyenv/versions/3.7.4/envs/hktv/lib/python3.7/site-packages/tensorflow_core/python/compat/v2_compat.py:65: disable_resource_variables (from tensorflow.python.ops.variable_scope) is deprecated and will be removed in a future version.\n",
      "Instructions for updating:\n",
      "non-resource variables are not supported in the long term\n"
     ]
    }
   ],
   "source": [
    "import matplotlib.pyplot as plt\n",
    "import numpy as np\n",
    "import tensorflow.compat.v1 as tf\n",
    "tf.disable_v2_behavior()"
   ]
  },
  {
   "cell_type": "code",
   "execution_count": 2,
   "metadata": {},
   "outputs": [],
   "source": [
    "is_correct_tf_version = '2.0' in tf.__version__\n",
    "assert is_correct_tf_version, \"Wrong tensorflow version {} installed\".format(tf.__version__)"
   ]
  },
  {
   "cell_type": "markdown",
   "metadata": {},
   "source": [
    "# Introduction to Tensorflow\n",
    "\n",
    "<center><img src=\"https://www.tensorflow.org/images/tf_logo_social.png\"/></center>\n",
    "\n",
    "**What is TensorFlow?**\n",
    "\n",
    "`TensorFlow` is an open-source **high-performance** library for **numerical computation** that uses directed graph. It's based on a **computational graph**.\n",
    "\n",
    "**TensorFlow** is developed by Google and used for many Google's services like Google Photos or Google Translate. As you read the name, it's derived from the operations which neural network perform on **multidimensional data arrays** or **tensors**. It literally handles the flow (**node/mathematical operation**) of **tensors** (data).\n",
    "\n",
    "> In tensorflow, **computations can be thought of as graphs**.\n",
    "\n",
    "Let's define this graph.\n",
    "\n",
    "<center><img src=\"https://raw.githubusercontent.com/aamini/introtodeeplearning_labs/05b12394ecbc9ce0b1a6828ba189a4035335f5d8/lab1/img/add-graph.png\"/></center>"
   ]
  },
  {
   "cell_type": "code",
   "execution_count": 3,
   "metadata": {},
   "outputs": [],
   "source": [
    "# create nodes in the graph\n",
    "a = tf.constant(10, name=\"a\")\n",
    "b = tf.constant(15, name=\"b\")\n",
    "\n",
    "# let's add them\n",
    "c = tf.add(a, b, name=\"c\")"
   ]
  },
  {
   "cell_type": "code",
   "execution_count": 4,
   "metadata": {},
   "outputs": [
    {
     "name": "stdout",
     "output_type": "stream",
     "text": [
      "Tensor(\"a:0\", shape=(), dtype=int32)\n",
      "Tensor(\"b:0\", shape=(), dtype=int32)\n",
      "Tensor(\"c:0\", shape=(), dtype=int32)\n"
     ]
    }
   ],
   "source": [
    "print(a)\n",
    "print(b)\n",
    "print(c)"
   ]
  },
  {
   "cell_type": "markdown",
   "metadata": {},
   "source": [
    "If you look at above operations, we have define the constant and also the addition operations. But, tensorflow didn't run any of those. It's because tensorflow has a so-called **lazy evaluation**. What does it mean?\n",
    "\n",
    "1. First, we only define the graph structure, but doesn't run it yet.\n",
    "2. To run it, we have to create a `session`."
   ]
  },
  {
   "cell_type": "code",
   "execution_count": 5,
   "metadata": {},
   "outputs": [],
   "source": [
    "sess = tf.Session()\n",
    "result = sess.run(c)\n",
    "tf.get_default_graph()\n",
    "sess.close()"
   ]
  },
  {
   "cell_type": "code",
   "execution_count": 6,
   "metadata": {},
   "outputs": [
    {
     "name": "stdout",
     "output_type": "stream",
     "text": [
      "25\n"
     ]
    }
   ],
   "source": [
    "print(result)"
   ]
  },
  {
   "cell_type": "code",
   "execution_count": 7,
   "metadata": {},
   "outputs": [
    {
     "name": "stdout",
     "output_type": "stream",
     "text": [
      "Serving TensorBoard on localhost; to expose to the network, use a proxy or pass --bind_all\n",
      "TensorBoard 2.0.0 at http://localhost:6006/ (Press CTRL+C to quit)\n",
      "^C\n"
     ]
    }
   ],
   "source": [
    "# !tensorboard --logdir logs"
   ]
  }
 ],
 "metadata": {
  "kernelspec": {
   "display_name": "Python 3",
   "language": "python",
   "name": "python3"
  },
  "language_info": {
   "codemirror_mode": {
    "name": "ipython",
    "version": 3
   },
   "file_extension": ".py",
   "mimetype": "text/x-python",
   "name": "python",
   "nbconvert_exporter": "python",
   "pygments_lexer": "ipython3",
   "version": "3.7.4"
  }
 },
 "nbformat": 4,
 "nbformat_minor": 4
}
