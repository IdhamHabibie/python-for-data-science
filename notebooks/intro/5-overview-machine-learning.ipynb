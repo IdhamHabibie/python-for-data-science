{
 "cells": [
  {
   "cell_type": "markdown",
   "metadata": {},
   "source": [
    "# Basic Machine Learning\n",
    "\n",
    "In this notebook, we will basic machine learning. Starting with utilizing a third-party library called *scikit-learn*, and also a deep learning framework by google *tensorflow*.\n",
    "\n",
    "**what is machine learning?**\n",
    "> Machine learning is getting computers to program themselves. - [*machinelearningmastery.com*](https://machinelearningmastery.com/basic-concepts-in-machine-learning/)\n",
    "\n",
    "![](https://3qeqpr26caki16dnhd19sv6by6v-wpengine.netdna-ssl.com/wp-content/uploads/2015/12/Traditional-Programming-vs-Machine-Learning-768x545.png \"machine learning vs traditional programming\")\n",
    "\n",
    "The essence of *learning* in the phrase *machine learning* is stated by Mitchell (1977):\n",
    "> A computer program is said to learn from experience **E** with respect to some class of tasks **T** and performance measure **P**, if its performance at tasks in **T**, as measured by **P**, improves with experience **E**.\n",
    "\n",
    "Some common components in machine learning are:\n",
    "* Model/representation\n",
    "* Evaluation\n",
    "* Optimization\n",
    "\n",
    "Types of machine learning:\n",
    "* **Supervised learning**: (also called inductive learning) Training data includes desired outputs.  This is spam this is not, learning is supervised.\n",
    "* **Unsupervised learning**: Training data does not include desired outputs. Example is clustering. It is hard to tell what is good learning and what is not.\n",
    "* **Semi-supervised learning**: Training data includes a few desired outputs.\n",
    "* **Reinforcement learning**: Rewards from a sequence of actions. AI types like it, it is the most ambitious type of learning.\n",
    "\n",
    "> **We are not going to learn machine learning per se, instead we will learn how to use python to do machine learning, especially data science.**"
   ]
  },
  {
   "cell_type": "markdown",
   "metadata": {},
   "source": [
    "## Dependencies\n",
    "\n",
    "Before we kick off, there are some dependencies need to be installed. But first, activate your favorite virutal environment and make sure you are in correct directory, where you will store all your projects. Then, install below libraries:\n",
    "\n",
    "1. `scikit-learn`: using `conda install scikit-learn`\n",
    "2. `tensorflow`: using `conda install tensorflow`"
   ]
  },
  {
   "cell_type": "markdown",
   "metadata": {},
   "source": [
    "## Scikit-learn\n",
    "\n",
    "![scikit-learn](../assets/img/scikit-learn.png)\n",
    "\n",
    "In order to use `scikit-learn`, first you must import it by typing\n",
    "\n",
    "```python\n",
    "import sklearn\n",
    "```"
   ]
  },
  {
   "cell_type": "code",
   "execution_count": 1,
   "metadata": {},
   "outputs": [],
   "source": [
    "import sklearn"
   ]
  },
  {
   "cell_type": "code",
   "execution_count": 2,
   "metadata": {},
   "outputs": [
    {
     "name": "stdout",
     "output_type": "stream",
     "text": [
      "0.21.3\n"
     ]
    }
   ],
   "source": [
    "# check version of your scikit-learn\n",
    "print(sklearn.__version__)"
   ]
  }
 ],
 "metadata": {
  "kernelspec": {
   "display_name": "Python 3",
   "language": "python",
   "name": "python3"
  },
  "language_info": {
   "codemirror_mode": {
    "name": "ipython",
    "version": 3
   },
   "file_extension": ".py",
   "mimetype": "text/x-python",
   "name": "python",
   "nbconvert_exporter": "python",
   "pygments_lexer": "ipython3",
   "version": "3.7.4"
  }
 },
 "nbformat": 4,
 "nbformat_minor": 4
}
