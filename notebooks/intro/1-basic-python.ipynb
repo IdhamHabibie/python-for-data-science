{
 "cells": [
  {
   "cell_type": "markdown",
   "metadata": {},
   "source": [
    "# Python Basic\n",
    "\n",
    "This notebook will guide you to get started with Python from basic installation to python basic. Throughout this notebook, you will:\n",
    "\n",
    "1. Install python using Anaconda (for simplicity), regardless what your OS is.\n",
    "2. Get to know with Data Types, Operators, Data Structures, Methods, and File Operation in Python\n",
    "3. Use all mentioned above to do control flow and (optionally) create functions, module, and class.\n",
    "\n",
    "## Why Anaconda?\n",
    "\n",
    "* To simplify things, like installation issue, and simplicity.\n",
    "* Anaconda is a package manager, an environment manager, a Python/R data science distribution, and a collection of over 1,500+ open source packages. Anaconda is free and easy to install, and it offers free community support.\n",
    "\n",
    "## Installing Anaconda\n",
    "\n",
    "First, you need to download the apps through this [link](https://www.anaconda.com/distribution/). When you have successfully installed Anaconda, python will be installed too along with other packages distribution from anaconda.\n",
    "\n",
    "* If you're on Windows, see intrusctions for [Windows here](https://docs.anaconda.com/anaconda/install/windows/)\n",
    "* If you're on Mac, see intrusctions for [Mac here](https://docs.anaconda.com/anaconda/install/mac-os/)\n",
    "* If you're on Linux, see intrusctions for [Linux here](https://docs.anaconda.com/anaconda/install/linux/)\n",
    "\n",
    "Our main goal today is to **get everything ready** for running and to ease our learning process.\n",
    "\n",
    "## IDE/Editor\n",
    "\n",
    "**Editor** is simply an interface or tool that allows you to edit text. Typically they are optimized for programming languages though many programmer’s text editors are branching out and adding features for non-programming text. **Integrated Development Environment (IDE)**, on the other hand, is intended as a set of tools that all work together: text editor, compiler, build or make integration, debugging, etc. Example of editor is like Notepad++, MS Word, etc, and IDE is like VSCode, Atom, Sublime, etc.\n",
    "\n",
    "Throughout this course, we will use Jupyter Notebook for our interactive programming and computation, and VSCode or PyCharm for scripting later.\n",
    "\n",
    "## Jupyter Notebook\n",
    "\n",
    "The Jupyter Notebook is an open-source web application that allows you to create and share documents that contain live code, equations, visualizations and narrative text. Uses include: data cleaning and transformation, numerical simulation, statistical modeling, data visualization, machine learning, and much more. It's developed under project jupyter, which exists to develop open-source software, open-standards, and services for interactive computing across dozens of programming languages."
   ]
  },
  {
   "cell_type": "markdown",
   "metadata": {},
   "source": [
    "## Basic Python Programming\n",
    "\n",
    "This section will guide you to learn about data types and operators in python.\n",
    "\n",
    "First, if you want to display/show/print object in Python, you can use `print()` command.\n",
    "\n",
    "### Data Types and Operators\n",
    "\n",
    "> *Goal: To understand operators, data types, and how to define variables in python*\n",
    "\n",
    "Operators (Arithmetic) in python consist of:\n",
    "* `+` Addition\n",
    "* `-` Subtraction\n",
    "* `*` multiplication\n",
    "* `/` Division\n",
    "* `%` Mod (Remainder of division)\n",
    "* `**` Exponentiation (in other language `^` will do)\n",
    "* `//` Divides and round-down to nearest integer\n",
    "\n",
    "Note that the usual order of mathematical operations holds in Python. There is exist *bitwise operator* in Python that you learn (if you need and want) [here](https://wiki.python.org/moin/BitwiseOperators)."
   ]
  },
  {
   "cell_type": "code",
   "execution_count": null,
   "metadata": {},
   "outputs": [],
   "source": [
    "print(25 + 30)\n",
    "print(10 - 5 * 20)\n",
    "print(4 / 2)\n",
    "print(4 % 2)\n",
    "print(12**2)\n",
    "print(111 // 5)"
   ]
  },
  {
   "cell_type": "markdown",
   "metadata": {},
   "source": [
    "### Variables and Assignment Operators\n",
    "\n",
    "To define a variables, for example, simply `current_year = 2019`. Here, `current_year` is `variable name`, `=` is the assignment operator, which holds the value `2019`. If we want to define more than one variable, we can do this by simply\n",
    "\n",
    "```python\n",
    "x = 10\n",
    "y = 7\n",
    "z = 12\n",
    "```\n",
    "\n",
    "or, a more *pythonic* way,\n",
    "\n",
    "```python\n",
    "x, y, z = 10, 7, 12\n",
    "```\n",
    "\n",
    "Some rules on defining variable are:\n",
    "\n",
    "1. Only use ordinary letters, numbers and underscores in your variable names. They can’t have spaces, and need to start with a letter or underscore.\n",
    "2. You can’t use reserved words or built-in identifiers that have important purposes in Python. A list of python reserved words is described [here](https://pentangle.net/python/handbook/node52.html).\n",
    "3. The pythonic way to name variables is to use all lowercase letters and underscores to separate words.\n",
    "\n",
    "The way we name variables is called **snake case**, because we tend to connect the words with underscores.\n",
    "\n",
    "![](https://video.udacity-data.com/topher/2018/January/5a71131d_screen-shot-2018-01-30-at-4.39.42-pm/screen-shot-2018-01-30-at-4.39.42-pm.png)"
   ]
  },
  {
   "cell_type": "code",
   "execution_count": null,
   "metadata": {},
   "outputs": [],
   "source": [
    "current_year = 2019\n",
    "last_year = 2018\n",
    "not_so_last_year = 2016\n",
    "\n",
    "print(current_year, last_year, not_so_last_year)"
   ]
  },
  {
   "cell_type": "code",
   "execution_count": null,
   "metadata": {},
   "outputs": [],
   "source": [
    "# this is a comment in python (a line starts with `#`)\n",
    "x, y, z = 10, 7, 12\n",
    "print(x, y)\n",
    "print(z)"
   ]
  },
  {
   "cell_type": "code",
   "execution_count": null,
   "metadata": {},
   "outputs": [],
   "source": [
    "# this will throw an error\n",
    "my population = 12091840    # should be `my_population` or other naming without space\n",
    "1_myvar = 100    # must not begin with number"
   ]
  },
  {
   "cell_type": "markdown",
   "metadata": {},
   "source": [
    "### Other Assignment Operators\n",
    "\n",
    "Aside from `=` operator, there are also assignment operators like `+=`, `-=`, `*=`, etc.\n",
    "\n",
    "**Comparison Operators**\n",
    "|Symbol Use Case|Bool|Operation|\n",
    "|---------------|----|---------|\n",
    "5 < 3\tFalse\tLess Than\n",
    "5 > 3\tTrue\tGreater Than\n",
    "3 <= 3\tTrue\tLess Than or Equal To\n",
    "3 >= 5\tFalse\tGreater Than or Equal To\n",
    "3 == 5\tFalse\tEqual To\n",
    "3 != 5\tTrue\tNot Equal To"
   ]
  },
  {
   "cell_type": "code",
   "execution_count": null,
   "metadata": {},
   "outputs": [],
   "source": [
    "my_population = 12091840\n",
    "my_population = my_population + 1000000\n",
    "print(my_population)"
   ]
  },
  {
   "cell_type": "code",
   "execution_count": null,
   "metadata": {},
   "outputs": [],
   "source": [
    "# or you can use above assignment operators, which is equivalent with above cell\n",
    "my_population = 12091840\n",
    "my_population += 1000000 - 999\n",
    "print(my_population)\n",
    "\n",
    "my_population *= 0.5\n",
    "print(my_population)"
   ]
  },
  {
   "cell_type": "markdown",
   "metadata": {},
   "source": [
    "### Data Types\n",
    "\n",
    "Data types in python that are useful for numeric operation:\n",
    "\n",
    "* **int** - for integer values\n",
    "* **float** - for decimal or floating point values\n",
    "\n",
    "Other than that, python also has **string** representing characters or text values and **booleans** which holds one of the value `True` or `False`, which are often encoded as `1` and `0` respectively.\n",
    "\n",
    "> For python best practice (python style guide), follow the [PEP8 Guidelines](https://www.python.org/dev/peps/pep-0008/)."
   ]
  },
  {
   "cell_type": "code",
   "execution_count": null,
   "metadata": {},
   "outputs": [],
   "source": [
    "# `type()` will return the data type of an object\n",
    "print(type(.05101))\n",
    "print(type(10.0))\n",
    "print(type(10))"
   ]
  },
  {
   "cell_type": "code",
   "execution_count": null,
   "metadata": {},
   "outputs": [],
   "source": [
    "type(.314), type(300)"
   ]
  },
  {
   "cell_type": "code",
   "execution_count": null,
   "metadata": {},
   "outputs": [],
   "source": [
    "print(type(.05101)), print(type(10.0)), print(type(10))"
   ]
  },
  {
   "cell_type": "code",
   "execution_count": null,
   "metadata": {},
   "outputs": [],
   "source": [
    "x_int = 10\n",
    "y_float = 3.14\n",
    "\n",
    "# casting numbers into float can be done using `float()`\n",
    "x_float = float(x_int)\n",
    "# casting numbers into int can be done using `int()`\n",
    "y_int = int(y_float)\n",
    "\n",
    "print(x_int, y_int)\n",
    "print(x_float, y_float)\n",
    "print(float(y_float))"
   ]
  },
  {
   "cell_type": "code",
   "execution_count": null,
   "metadata": {},
   "outputs": [],
   "source": [
    "# Directly define a boolean\n",
    "is_rainy = True\n",
    "is_java = False\n",
    "\n",
    "print(is_rainy, type(is_rainy))\n",
    "print(is_java, type(is_java))"
   ]
  },
  {
   "cell_type": "code",
   "execution_count": null,
   "metadata": {},
   "outputs": [],
   "source": [
    "# string value always begin and end with `''` or `\"\"`\n",
    "string1 = \"hello world!\"\n",
    "string2 = 'hello hacktivate!'\n",
    "\n",
    "print(string1, string2)\n",
    "\n",
    "# you also can directly print text on `print()` without assign it to a variable\n",
    "print(\"This will be printed as string.\", \"You know that!\")\n",
    "\n",
    "# combining with numbers (int/float)\n",
    "str_int = \"hello earth-\" + \"!\"\n",
    "str_float = 'I\\'m number ' + str(4)\n",
    "print(str_int, str_float)"
   ]
  },
  {
   "cell_type": "code",
   "execution_count": null,
   "metadata": {},
   "outputs": [],
   "source": [
    "# casting any python object into string can be done using `str()`\n",
    "str(3.1417)"
   ]
  },
  {
   "cell_type": "code",
   "execution_count": null,
   "metadata": {},
   "outputs": [],
   "source": [
    "# methods in string -> `upper()`, `lower()`, `title()` are used to transform text\n",
    "# into lowercase, uppercase, titlecase, respectively\n",
    "print(\"Hi There\".upper())\n",
    "print(\"hi there\".title())"
   ]
  },
  {
   "cell_type": "code",
   "execution_count": null,
   "metadata": {},
   "outputs": [],
   "source": [
    "# formatted string can be done using `format()`\n",
    "# or string literal by prefixing `f` in the string\n",
    "four = 4\n",
    "i = 1\n",
    "\n",
    "# formatted string\n",
    "print(\"I'm number {}{}\".format(four, \"!\"))\n",
    "print(\"iteration: {}\".format(i))\n",
    "\n",
    "# string literal\n",
    "print(f'iteration: {four} and {i}')"
   ]
  },
  {
   "cell_type": "markdown",
   "metadata": {},
   "source": [
    "## Data Structures\n",
    "\n",
    "* Types of Data Structures: **Lists, Tuples, Sets, Dictionaries, Compound Data Structures**\n",
    "* Operators: Membership, Identity\n",
    "* Built-In Functions or Methods\n",
    "\n",
    "> **Data structures** are containers that organize and group data types together in different ways.\n",
    "\n",
    "### List\n",
    "\n",
    "**List** is one of common and basic data structures in Python. We can define a list by creating square brackets `[..]`. Lists can contain any mix and match of the data types you have seen so far.\n",
    "\n",
    "Some common methods of list  are:\n",
    "* `len` - returns how many elements are in a list\n",
    "* `max` - returns the greatest element in  alist\n",
    "* `min` - returns the smallest element in a list\n",
    "* `sorted` - returns a copy of list in order from smallest to largets\n",
    "* `append` - adds an element to the end of a list\n",
    "* `join` - (string method) takes a list as an argument, then returns a string consisting of the list elements joined by a separator string"
   ]
  },
  {
   "cell_type": "code",
   "execution_count": null,
   "metadata": {},
   "outputs": [],
   "source": [
    "my_list = [1, 2, 3, 4, 5, 6, 7, 8, 9]\n",
    "your_list = [1, 21, 3, 4, 51 , 16, 71, 81, 91]\n",
    "print(my_list)\n",
    "\n",
    "length = len(my_list)\n",
    "print(length)\n",
    "\n",
    "print(my_list[0], my_list[1])"
   ]
  },
  {
   "cell_type": "code",
   "execution_count": null,
   "metadata": {},
   "outputs": [],
   "source": [
    "# slicing index\n",
    "print(my_list[:6])    # my_list[0]..[1]\n",
    "print(my_list[:2])\n",
    "print(my_list[length-1], my_list[8], my_list[-1], my_list[-2])\n",
    "print(my_list[-3:], my_list[3:])"
   ]
  },
  {
   "cell_type": "code",
   "execution_count": null,
   "metadata": {},
   "outputs": [],
   "source": [
    "# append: add one object to the end of the list\n",
    "your_list.append(.314)\n",
    "your_list.append(10)\n",
    "your_list.append(\"string\")\n",
    "your_list"
   ]
  },
  {
   "cell_type": "code",
   "execution_count": null,
   "metadata": {},
   "outputs": [],
   "source": [
    "your_list.append(my_list)\n",
    "print(your_list)\n",
    "print(your_list[-1][3])\n",
    "\n",
    "your_list.extend(\"string\")\n",
    "print(your_list)\n",
    "\n",
    "your_list.pop()\n",
    "print(your_list)"
   ]
  },
  {
   "cell_type": "markdown",
   "metadata": {},
   "source": [
    "### Dictionary\n",
    "\n",
    "A **dictionary** is a mutable data type that stores mappings of unique keys to values."
   ]
  },
  {
   "cell_type": "code",
   "execution_count": null,
   "metadata": {},
   "outputs": [],
   "source": [
    "d1 = {\"one\": 1, \"two\": 2, \"three\": 3}\n",
    "d2 = {\"nama\": [\"josh\", \"farro\"], \"umur\": [20, 18]}\n",
    "d3 = dict(name=[\"frist\", \"theo\"], umur=[20,30])"
   ]
  },
  {
   "cell_type": "code",
   "execution_count": null,
   "metadata": {},
   "outputs": [],
   "source": [
    "print(d1)\n",
    "print(d2)\n",
    "print(d3)"
   ]
  },
  {
   "cell_type": "code",
   "execution_count": null,
   "metadata": {},
   "outputs": [],
   "source": [
    "print(d1[\"satu\"])\n",
    "print(d2[\"nama\"])"
   ]
  },
  {
   "cell_type": "code",
   "execution_count": null,
   "metadata": {},
   "outputs": [],
   "source": [
    "d2[\"tahun\"] = [1990, 1980]\n",
    "d2[\"nama\"] = ['frist', 'theo']\n",
    "d2[0] = [\"nol\", 0]\n",
    "print(d2)\n",
    "print(d2[0][1])"
   ]
  },
  {
   "cell_type": "code",
   "execution_count": null,
   "metadata": {},
   "outputs": [],
   "source": [
    "d2.pop(\"nama\")"
   ]
  },
  {
   "cell_type": "code",
   "execution_count": null,
   "metadata": {},
   "outputs": [],
   "source": [
    "print(d2.get(\"tahun\", \"no key found\"))\n",
    "print(d2.get(\"nama\", \"no key found\"))"
   ]
  },
  {
   "cell_type": "code",
   "execution_count": null,
   "metadata": {},
   "outputs": [],
   "source": [
    "# list out dict keys\n",
    "print(d1.keys())\n",
    "print(d2.keys())\n",
    "print(d3.keys())\n",
    "\n",
    "# list out dict values\n",
    "print(d1.values())\n",
    "print(d2.values())\n",
    "print(d3.values())"
   ]
  },
  {
   "cell_type": "markdown",
   "metadata": {},
   "source": [
    "Define a dictionary named population that contains this data:\n",
    "\n",
    "| Key | Value |\n",
    "| --- | -----: |\n",
    "| Shanghai | 17.8 |\n",
    "| Istanbul | 13.3 |\n",
    "| Karachi | 13.0 |\n",
    "| Mumbai |12.5 |"
   ]
  },
  {
   "cell_type": "code",
   "execution_count": null,
   "metadata": {},
   "outputs": [],
   "source": [
    "# define a dictionary that contains data above here\n"
   ]
  },
  {
   "cell_type": "markdown",
   "metadata": {},
   "source": [
    "### Tuple\n",
    "\n",
    "**Tuple** is a data type for **immutable** ordered sequences of elements and often used to store related pieces of information. Immutable means we can't add and remove items from tuples, or sort them in place.\n",
    "\n",
    "For example, you can define a tuple by\n",
    "```python\n",
    "location = (13.4125, 103.866667) # (longitude, latitude)\n",
    "```\n",
    "\n",
    "Or, you can assign variables in a compact way (into one variable). This is called **tuple unpacking**.\n",
    "```python\n",
    "dimensions = 40, 51, 101\n",
    "length, width, height = dimensions\n",
    "print(\"The dimensions are {} x {} x {}\".format(length, width, height))\n",
    "```"
   ]
  },
  {
   "cell_type": "code",
   "execution_count": null,
   "metadata": {},
   "outputs": [],
   "source": [
    "t = (1, 2, 3)\n",
    "print(t, type(t), len(t))"
   ]
  },
  {
   "cell_type": "code",
   "execution_count": null,
   "metadata": {},
   "outputs": [],
   "source": [
    "print(t[0], t[-1])\n",
    "t[0] = 1"
   ]
  },
  {
   "cell_type": "code",
   "execution_count": null,
   "metadata": {},
   "outputs": [],
   "source": [
    "t1 = (\"data science\", 8, 21)\n",
    "print(t1)"
   ]
  },
  {
   "cell_type": "code",
   "execution_count": null,
   "metadata": {},
   "outputs": [],
   "source": [
    "t1[0] = \"machine learning\""
   ]
  },
  {
   "cell_type": "markdown",
   "metadata": {},
   "source": [
    "### Set\n",
    "\n",
    "**Set** is a data type for **mutable unordered collections** of *unique* elements. One application of a set is to quickly *remove duplicates* from a list.\n",
    "\n",
    "Creating a set is easy, `s = {1, 2, 2, 3, 3, 3, 4, 4, 4, 4}`. Since set will only contain unique elements and remove any duplicate elements, this statement will return a set of `{1, 2, 3, 4}`."
   ]
  },
  {
   "cell_type": "code",
   "execution_count": null,
   "metadata": {},
   "outputs": [],
   "source": [
    "s = {10, 9, 21, 20, 30, 11, 20}\n",
    "fruit = {\"apple\", \"banana\", \"orange\", \"grapefruit\"}\n",
    "print(s, type(s), len(s))\n",
    "print(fruit)"
   ]
  },
  {
   "cell_type": "code",
   "execution_count": null,
   "metadata": {},
   "outputs": [],
   "source": [
    "print(my_list)\n",
    "sorted(fruit), list(fruit), set(my_list)"
   ]
  },
  {
   "cell_type": "code",
   "execution_count": null,
   "metadata": {},
   "outputs": [],
   "source": [
    "numbers = [1, 2, 6, 3, 1, 1, 6]\n",
    "unique_numbers = set(numbers)\n",
    "print(unique_numbers, len(numbers) - len(unique_numbers))"
   ]
  },
  {
   "cell_type": "markdown",
   "metadata": {},
   "source": [
    "## Control Flow\n",
    "\n",
    "### Conditional Statements\n",
    "\n",
    "**If statements** is a conditional statement that runs or skips code based on whether a condition is `True` or `False`.\n",
    "\n",
    "Some other languages use braces to show where **blocks of code** begin and end, but python use indentation to enclose blocks of code."
   ]
  },
  {
   "cell_type": "code",
   "execution_count": null,
   "metadata": {},
   "outputs": [],
   "source": [
    "if False:\n",
    "    print(\"this is true\")\n",
    "else:\n",
    "    print(\"this is false\")"
   ]
  },
  {
   "cell_type": "code",
   "execution_count": null,
   "metadata": {},
   "outputs": [],
   "source": [
    "a = 1 == 0    # a = False\n",
    "b = \"alfa\" != \"Alfa\"    # b = True\n",
    "print(a, b)"
   ]
  },
  {
   "cell_type": "code",
   "execution_count": null,
   "metadata": {},
   "outputs": [],
   "source": [
    "n = 4\n",
    "if (n > 0 and n < 5) or (n > 10):\n",
    "    new = 10\n",
    "if n == 4:\n",
    "    new = 11\n",
    "else:\n",
    "    print(0)\n",
    "print(new)"
   ]
  },
  {
   "cell_type": "markdown",
   "metadata": {},
   "source": [
    "Make use of conditional statement to replicate below possibilities of winning a prize.\n",
    "\n",
    "| points | prize |\n",
    "| ----- | ------|\n",
    "| 1 - 50 | wooden rabbit |\n",
    "| 51 - 150 | no prize |\n",
    "| 151 - 180 | wafer-thin mint |\n",
    "| 181 - 200 | penguin |"
   ]
  },
  {
   "cell_type": "code",
   "execution_count": null,
   "metadata": {},
   "outputs": [],
   "source": [
    "# your code here\n"
   ]
  },
  {
   "cell_type": "code",
   "execution_count": null,
   "metadata": {},
   "outputs": [],
   "source": [
    "arg = 0\n",
    "\n",
    "if []:    # not False, None, 0\n",
    "    print(\"---\")\n",
    "else:\n",
    "    print(\"===\")"
   ]
  },
  {
   "cell_type": "markdown",
   "metadata": {},
   "source": [
    "### While Loop\n",
    "\n",
    "**While loop** is a type of **indefinite iteration** which a loop will repeat an unknown number of times and end when **some condition is met**. Below is an example of using `while` loop.\n",
    "\n",
    "```python\n",
    "card_deck = [4, 11, 8, 5, 13, 2, 8, 10]\n",
    "hand = []\n",
    "\n",
    "while sum(hand)  < 19:\n",
    "    hand.append(card_deck.pop())\n",
    "```\n",
    "\n",
    "Components of a `While` Loop:\n",
    "1. The first line starts with the `while` keyword, indicating this is a `while` loop.\n",
    "2. Following that is a **condition** to be checked. In above example, that's `sum(hand) <= 19`.\n",
    "3. The `while` loop heading always ends with a colon `:`.\n",
    "4. **Indented** after this heading is **the body of the while loop**. If the condition for the while loop is true, the code lines in the loop's body will be executed.\n",
    "5. We then **go back to the while heading line**, and the condition is **evaluated again**. This process of checking the condition and then executing the loop repeats **until the condition becomes false**.\n",
    "6. When the condition becomes false, we move on to the line following the body of the loop, which will be unindented.\n"
   ]
  },
  {
   "cell_type": "code",
   "execution_count": null,
   "metadata": {},
   "outputs": [],
   "source": [
    "something = \"something\"\n",
    "a = 10\n",
    "\n",
    "while a > 0:\n",
    "    if a % 2 != 0:\n",
    "        print(something, a, \"is odd\")\n",
    "    else:\n",
    "        print(something, a, \"is even\")\n",
    "    a -= 1"
   ]
  },
  {
   "cell_type": "code",
   "execution_count": null,
   "metadata": {},
   "outputs": [],
   "source": [
    "# try to code a factorial using while loop"
   ]
  },
  {
   "cell_type": "code",
   "execution_count": null,
   "metadata": {
    "jupyter": {
     "source_hidden": true
    }
   },
   "outputs": [],
   "source": [
    "n = 5\n",
    "result = 1\n",
    "\n",
    "while n > 0:\n",
    "    print(result, \"x\", n)\n",
    "    result *= n\n",
    "    n -= 1\n",
    "    print(\"current result:\", result)\n",
    "\n",
    "print(result)"
   ]
  },
  {
   "cell_type": "code",
   "execution_count": null,
   "metadata": {
    "jupyter": {
     "source_hidden": true
    }
   },
   "outputs": [],
   "source": [
    "n = 4\n",
    "result = 1\n",
    "current = 1\n",
    "\n",
    "while current <= n:\n",
    "#     print(result, \"x\", current)\n",
    "    result *= current\n",
    "    current +=1\n",
    "#     print(\"current result:\", result)\n",
    "print(result)"
   ]
  },
  {
   "cell_type": "markdown",
   "metadata": {},
   "source": [
    "### For Loop\n",
    "\n",
    "A `for` loop is used to \"iterate\", or do something repeatedly, over an **iterable**. An **iterable** is an object that can return one of its elements at a time.\n",
    "\n",
    "```python\n",
    "cities = ['new york city', 'mountain view', 'chicago', 'los angeles']\n",
    "for city in cities:\n",
    "    print(city)\n",
    "print(\"Done!\")\n",
    "```\n",
    "\n",
    "Components of a `for` Loop:\n",
    "1. The first line of the loop starts with the for keyword, which signals that this is a for loop\n",
    "2. Following that is city in cities, indicating city is the iteration variable, and cities is the iterable being looped over. In the first iteration of the loop, city gets the value of the first element in cities, which is “new york city”.\n",
    "3. The for loop heading line always ends with a colon :\n",
    "4. Following the for loop heading is an indented block of code, the body of the loop, to be executed in each iteration of this loop. There is only one line in the body of this loop - print(city).\n",
    "5. After the body of the loop has executed, we don't move on to the next line yet; we go back to the for heading line, where the iteration variable takes the value of the next element of the iterable. In the second iteration of the loop above, city takes the value of the next element in cities, which is \"mountain view\".\n",
    "6. This process repeats until the loop has iterated through all the elements of the iterable. Then, we move on to the line that follows the body of the loop - in this case, print(\"Done!\"). We can tell what the next line after the body of the loop is because it is unindented. Here is another reason why paying attention to your indentation is very important in Python!"
   ]
  },
  {
   "cell_type": "code",
   "execution_count": null,
   "metadata": {},
   "outputs": [],
   "source": [
    "cities = [\"jkt\", \"bdg\", \"sby\", \"mlg\"]\n",
    "\n",
    "for i in (\"jkt\", \"bdg\", \"sby\", \"mlg\"):\n",
    "    print(i.upper(), type(i))\n",
    "\n",
    "for idx, city in enumerate(cities):\n",
    "    print(cities[idx])"
   ]
  },
  {
   "cell_type": "code",
   "execution_count": null,
   "metadata": {},
   "outputs": [],
   "source": [
    "cities = ['new york city', 'mountain view', 'chicago', 'los angeles']\n",
    "capitalized_cities = []\n",
    "\n",
    "for city in cities:\n",
    "    capitalized_cities.append(city.title())\n",
    "\n",
    "print(capitalized_cities)"
   ]
  },
  {
   "cell_type": "code",
   "execution_count": null,
   "metadata": {},
   "outputs": [],
   "source": [
    "name = [\n",
    "    \"Josh Neil\", \"Zac Efron\", \n",
    "    \"Will Smith\", \"Theo Hernan\", \n",
    "    \"Jenny Kor\", \"Frist Paulo Williams\"\n",
    "]\n",
    "\n",
    "# using list above, try make a username with below requirements\n",
    "# 1. username must not contain any spaces and capital letters\n",
    "# 2. spaces have to be replaced with underscore `_`\n",
    "# 3. every words must be separated by `underscore`\n",
    "# e.g. Josh Neil -> josh_neil, Frist Paulo Williams -> first_paulo_williams"
   ]
  },
  {
   "cell_type": "raw",
   "metadata": {},
   "source": [
    "# TODO:\n",
    "# 1. Building dictionary using for loop\n",
    "# 2. Iteratin through dictionary with for loop\n",
    "# 3. for loop with `range()`"
   ]
  }
 ],
 "metadata": {
  "kernelspec": {
   "display_name": "Python 3",
   "language": "python",
   "name": "python3"
  },
  "language_info": {
   "codemirror_mode": {
    "name": "ipython",
    "version": 3
   },
   "file_extension": ".py",
   "mimetype": "text/x-python",
   "name": "python",
   "nbconvert_exporter": "python",
   "pygments_lexer": "ipython3",
   "version": "3.7.4"
  }
 },
 "nbformat": 4,
 "nbformat_minor": 4
}
