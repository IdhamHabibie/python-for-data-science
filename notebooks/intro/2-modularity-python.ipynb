{
 "cells": [
  {
   "cell_type": "code",
   "execution_count": 1,
   "metadata": {},
   "outputs": [
    {
     "name": "stdout",
     "output_type": "stream",
     "text": [
      "/Users/syahrulhamdani/workspace/hacktiv8/intro-to-python\n"
     ]
    }
   ],
   "source": [
    "import os\n",
    "\n",
    "os.chdir(\"../\")\n",
    "print(os.getcwd())"
   ]
  },
  {
   "cell_type": "markdown",
   "metadata": {},
   "source": [
    "# Python Modularity\n",
    "\n",
    "## Function and Methods\n",
    "\n",
    "`Function` is simply a **block of code** to carry out a **specific task** which:\n",
    "* contain its own scope\n",
    "* will be called by name\n",
    "\n",
    "Some examples of *built-in function* is listed in [python documentation here](https://docs.python.org/3.7/library/functions.html). Function like `print()`, `len()`, `int()`, `float()`, `str()`, `type()`, etc. are some of built-in functions provided in python.\n",
    "\n",
    "![](../assets/img/built-in-function.png \"built-in function\")\n",
    "\n",
    "`Method`, on the other hand, is similar with function, except it is specifically, **associated** with **particular objects/classes**. Some major difference are:\n",
    "* The method is implicitly used for an object for which it is called\n",
    "* The method is accessible to data that is contained within the class\n",
    "\n",
    "Some examples of *method* in `string` object are `upper()`, `lower()`, `title()`, etc.\n",
    "\n",
    "Let's try some!"
   ]
  },
  {
   "cell_type": "code",
   "execution_count": null,
   "metadata": {},
   "outputs": [],
   "source": [
    "# try some functions here\n",
    "print(bool(10), bool(None), bool(['']), bool(\"\"), bool([]))\n",
    "print(all([10, None, [\"\"], \"\", []]))\n",
    "print(any([10, None, [\"\"], \"\", []]))"
   ]
  },
  {
   "cell_type": "code",
   "execution_count": null,
   "metadata": {
    "scrolled": true
   },
   "outputs": [],
   "source": [
    "# \"a\", \"w\", \"r\"\n",
    "f = open(\"notebooks/example.text\", mode=\"r\", encoding=\"utf-8\")\n",
    "text = f.read()\n",
    "f.close()\n",
    "text"
   ]
  },
  {
   "cell_type": "code",
   "execution_count": null,
   "metadata": {},
   "outputs": [],
   "source": [
    "f = open(\"notebooks/example.text\", mode=\"r\", encoding=\"utf-8\")\n",
    "text = f.readline()\n",
    "text_2 = f.readline()\n",
    "# f.close()\n",
    "print(text)\n",
    "print(text_2)"
   ]
  },
  {
   "cell_type": "code",
   "execution_count": null,
   "metadata": {},
   "outputs": [],
   "source": [
    "f.readline()"
   ]
  },
  {
   "cell_type": "code",
   "execution_count": null,
   "metadata": {
    "scrolled": true
   },
   "outputs": [],
   "source": [
    "f = open(\"notebooks/example.text\", mode=\"r\", encoding=\"utf-8\")\n",
    "text = f.readlines()\n",
    "f.close()"
   ]
  },
  {
   "cell_type": "code",
   "execution_count": null,
   "metadata": {},
   "outputs": [],
   "source": [
    "for txt in text:\n",
    "    print(txt)"
   ]
  },
  {
   "cell_type": "code",
   "execution_count": null,
   "metadata": {},
   "outputs": [],
   "source": [
    "# with statements\n",
    "with open(\"notebooks/example.text\") as filename:\n",
    "    txt = filename.readlines()\n",
    "    print(txt[4])"
   ]
  },
  {
   "cell_type": "code",
   "execution_count": null,
   "metadata": {},
   "outputs": [],
   "source": [
    "with open(\"notebooks/addresses.csv\") as filename:\n",
    "    print(filename.read())"
   ]
  },
  {
   "cell_type": "markdown",
   "metadata": {},
   "source": [
    "> **Function** allow us to implement **code reusability**\n",
    "\n",
    "There are some types of function in python:\n",
    "* *Built-in function* which come with python language as explained above.\n",
    "* *User-defined function* which is created by users (us) to ease life (when coding).\n",
    "\n",
    "```python\n",
    "def factorial(n):\n",
    "    result = 1\n",
    "    while n > 0:\n",
    "        result *= n\n",
    "        n -= 1\n",
    "        \n",
    "    return result\n",
    "```\n",
    "Here, we have to use `def` whenever we create our custom function. Then, followed by *function name*, in this case `factorial`, which describe its task or simply what the function does. This function name is embedded by what we call function `parameter` to be used inside the function. Here, `n` is the parameter we want to pass in everytime we use the function. If we want to calculate factorial of `10`, then we simply write `factorial(10)` or `factorial(n=10)`, where `10` now become `arguments` we pass into the function. **Don't forget the indentation since it's still in the same block of code**. After that, we write our code in that block. Finally, if our function indeed provide us a value, then we write `return` to, simply, return that value we want. In this case, since the task is factorial, then we return factorial result.\n",
    "\n",
    "* *Anonymous function* which use keyword `lambda`"
   ]
  },
  {
   "cell_type": "code",
   "execution_count": null,
   "metadata": {},
   "outputs": [],
   "source": [
    "def factorial(n):\n",
    "    result = 1\n",
    "    while n > 0:\n",
    "        result *= n\n",
    "        n -= 1\n",
    "\n",
    "    print(result)"
   ]
  },
  {
   "cell_type": "code",
   "execution_count": null,
   "metadata": {},
   "outputs": [],
   "source": [
    "factorial(n=4)"
   ]
  },
  {
   "cell_type": "code",
   "execution_count": null,
   "metadata": {},
   "outputs": [],
   "source": [
    "# code reusability\n",
    "fact_4 = factorial(4)\n",
    "fact_10 = factorial(10)\n",
    "\n",
    "print(fact_10, fact_4)"
   ]
  },
  {
   "cell_type": "code",
   "execution_count": null,
   "metadata": {},
   "outputs": [],
   "source": [
    "# use `open()` function to interact with external files here"
   ]
  },
  {
   "cell_type": "markdown",
   "metadata": {},
   "source": [
    "## Modules and Scripts\n",
    "\n",
    "Jupyter Notebook allow us to write program in cells and execute them according to program flow we may have defined. Yet, if we write program in a lot of cells, we may have to execute cell from the beginning. Instead of doing this, we are better off using a *text editor* or *IDE* to write longer and maintainable program. This is known as creating a **script**.\n",
    "\n",
    "But, as your program gets longer, you may want to split it into several files for easier maintenance. You may also want to use a handy **function that you’ve written** in several programs **without** copying its definition into each program. Python has a way to put definitions in a `file` and use them in a script. Such a `file` is called **module**. All definitions, including object, function, class from a module (file) can be *imported* into other modules (files) or into the *main* module (file).\n",
    "\n",
    "> Simply put,  module is a file containing Python definitions and statements.\n",
    "\n",
    "### Importing Modules\n",
    "\n",
    "To make use of modules, we can import it into our work environment using a syntax `import`. There are several ways of importing modules (packages). Say, we want to import a module named `my_module`.\n",
    "\n",
    "1. using standard`import ...`\n",
    "\n",
    "```python\n",
    "import my_module\n",
    "```\n",
    "\n",
    "2. using `import ... as ...` and an alias (could be any name)\n",
    "\n",
    "```python\n",
    "import my_module as mod\n",
    "```\n",
    "\n",
    "3. using `from ... import ... (as) ...`. Say, we only want to import \n",
    "\n",
    "```python\n",
    "from my_module import my_logger as log, my_error as err\n",
    "from my_module import standard_fact\n",
    "```\n",
    "\n",
    "Of all those, we should follow the python style guide provided in [PEP8](https://www.python.org/dev/peps/pep-0008/#imports).\n",
    "\n",
    "**Let's move on to our IDE!**"
   ]
  },
  {
   "cell_type": "code",
   "execution_count": null,
   "metadata": {},
   "outputs": [],
   "source": [
    "# import my_module\n",
    "# import my_module as mod\n",
    "from hacktivate import my_module"
   ]
  },
  {
   "cell_type": "code",
   "execution_count": null,
   "metadata": {},
   "outputs": [],
   "source": [
    "log(\"err\")"
   ]
  },
  {
   "cell_type": "markdown",
   "metadata": {},
   "source": [
    "## Packages\n",
    "\n",
    "Packages are a way of structuring Python’s module namespace by using *“dotted module names”*. Below are example of how python projects structured.\n",
    "\n",
    "![Example of python project structure](../assets/img/python-project-structure.png \"Python project structure\")\n",
    "\n",
    "> `Packages`, is simply a collection of modules with specific task.\n",
    "\n",
    "### Third-party libraries\n",
    "\n",
    "Python come with significant Standard Library with lots of features. But, sometimes we will need more than that. Then we have 2 options:\n",
    "1. Write our own packages from scratch\n",
    "2. Use somebody else's code.\n",
    "\n",
    "Option 2 looks better, thanks to python community. Unfortunately, some those libraries are note installed yet in our local machine. Hence, we need to install it first. We do this by using `pip` command, which is a **package installer for python**. If you use conda, you can install those packages using `conda` command. For data analysis use case, we often use libraries called `numpy` and `pandas` (will be explained later). We can install them using either `pip` or `conda`.\n",
    "\n",
    "First, make you sure you have installed `pip` or `conda` by running\n",
    "```bash\n",
    "conda --version\n",
    "```\n",
    "or\n",
    "```bash\n",
    "pip --version\n",
    "```\n",
    "In *anaconda prompt* (if you're on windows) or *terminal* (if you're on Linux or macOS). Then, install them using\n",
    "```bash\n",
    "conda install numpy pandas\n",
    "```\n",
    "or\n",
    "```bash\n",
    "pip install numpy pandas\n",
    "```\n",
    "\n",
    "> UPDATE: windows now have released a new windows **Terminal** (preview) and can be downloaded [here](https://www.microsoft.com/en-us/p/windows-terminal-preview/9n0dx20hk701?activetab=pivot:overviewtab)."
   ]
  },
  {
   "cell_type": "markdown",
   "metadata": {},
   "source": [
    "## Into The Virtual Environment\n",
    "\n",
    "> Your system dependencies based on python may be broken if you decide to play with python packages on your system. And nobody wants that. - [*Gajesh*](https://towardsdatascience.com/all-you-need-to-know-about-python-virtual-environments-9b4aae690f97)\n",
    "\n",
    "The purpose of creating and using *virtual environment* is to create an **isolated** environment for any python projects such that each project can have its own dependencies, regardless of what dependencies other projects need.\n",
    "\n",
    "### Why don't we just install python and dependencies just directly on our system?\n",
    "\n",
    "Actually, you can do that. But as your projects grow and you have more projects on your system, you can't expect all of them to have the same version of dependencies. For one project you may need just 10 dependencies with particular version, another project will need more than 10 projects with particular version of dependencies too. Virtual environment come to the rescue."
   ]
  }
 ],
 "metadata": {
  "kernelspec": {
   "display_name": "Python 3",
   "language": "python",
   "name": "python3"
  },
  "language_info": {
   "codemirror_mode": {
    "name": "ipython",
    "version": 3
   },
   "file_extension": ".py",
   "mimetype": "text/x-python",
   "name": "python",
   "nbconvert_exporter": "python",
   "pygments_lexer": "ipython3",
   "version": "3.7.4"
  }
 },
 "nbformat": 4,
 "nbformat_minor": 4
}
